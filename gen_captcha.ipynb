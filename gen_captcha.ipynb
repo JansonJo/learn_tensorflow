{
 "cells": [
  {
   "cell_type": "code",
   "execution_count": 1,
   "metadata": {},
   "outputs": [],
   "source": [
    "#coding=utf-8\n",
    "from captcha.image import ImageCaptcha  # pip install captcha\n",
    "import numpy as np\n",
    "import matplotlib.pyplot as plt\n",
    "from PIL import Image\n",
    "import random"
   ]
  },
  {
   "cell_type": "code",
   "execution_count": 7,
   "metadata": {},
   "outputs": [],
   "source": [
    "# 验证码中的字符, 就不用汉字了\n",
    "'''\n",
    "number = ['0', '1', '2', '3', '4', '5', '6', '7', '8', '9']\n",
    "alphabet = ['a', 'b', 'c', 'd', 'e', 'f', 'g', 'h', 'i', 'j', 'k', 'l', 'm', 'n', 'o', 'p', 'q', 'r', 's', 't', 'u',\n",
    "            'v', 'w', 'x', 'y', 'z']\n",
    "\n",
    "ALPHABET = ['A', 'B', 'C', 'D', 'E', 'F', 'G', 'H', 'I', 'J', 'K', 'L', 'M', 'N', 'O', 'P', 'Q', 'R', 'S', 'T', 'U',\n",
    "            'V', 'W', 'X', 'Y', 'Z']\n",
    "'''\n",
    "\n",
    "number=['0','1','2','3','4','5','6','7','8','9']\n",
    "alphabet =[]\n",
    "ALPHABET =[]\n"
   ]
  },
  {
   "cell_type": "code",
   "execution_count": 8,
   "metadata": {},
   "outputs": [],
   "source": [
    "# 验证码一般都无视大小写；验证码长度4个字符\n",
    "def random_captcha_text(char_set=number + alphabet + ALPHABET, captcha_size=4):\n",
    "    captcha_text = []\n",
    "    for i in range(captcha_size):\n",
    "        c = random.choice(char_set)\n",
    "        captcha_text.append(c)\n",
    "    return captcha_text\n",
    "\n",
    "\n",
    "# 生成字符对应的验证码\n",
    "def gen_captcha_text_and_image():\n",
    "    while(1):\n",
    "        image = ImageCaptcha()\n",
    "\n",
    "        captcha_text = random_captcha_text()\n",
    "        captcha_text = ''.join(captcha_text)\n",
    "\n",
    "        captcha = image.generate(captcha_text)\n",
    "        #image.write(captcha_text, captcha_text + '.jpg')  # 写到文件\n",
    "\n",
    "        captcha_image = Image.open(captcha)\n",
    "        #captcha_image.show()\n",
    "        captcha_image = np.array(captcha_image)\n",
    "        if captcha_image.shape==(60,160,3):\n",
    "            break\n",
    "\n",
    "    return captcha_text, captcha_image"
   ]
  },
  {
   "cell_type": "code",
   "execution_count": 10,
   "metadata": {},
   "outputs": [
    {
     "name": "stdout",
     "output_type": "stream",
     "text": [
      "6470\n",
      "[[[242 250 238]\n",
      "  [242 250 238]\n",
      "  [242 250 238]\n",
      "  ...\n",
      "  [242 250 238]\n",
      "  [242 250 238]\n",
      "  [242 250 238]]\n",
      "\n",
      " [[242 250 238]\n",
      "  [242 250 238]\n",
      "  [242 250 238]\n",
      "  ...\n",
      "  [242 250 238]\n",
      "  [242 250 238]\n",
      "  [242 250 238]]\n",
      "\n",
      " [[242 250 238]\n",
      "  [242 250 238]\n",
      "  [242 250 238]\n",
      "  ...\n",
      "  [242 250 238]\n",
      "  [242 250 238]\n",
      "  [242 250 238]]\n",
      "\n",
      " ...\n",
      "\n",
      " [[242 250 238]\n",
      "  [242 250 238]\n",
      "  [242 250 238]\n",
      "  ...\n",
      "  [242 250 238]\n",
      "  [242 250 238]\n",
      "  [242 250 238]]\n",
      "\n",
      " [[242 250 238]\n",
      "  [242 250 238]\n",
      "  [242 250 238]\n",
      "  ...\n",
      "  [242 250 238]\n",
      "  [242 250 238]\n",
      "  [242 250 238]]\n",
      "\n",
      " [[242 250 238]\n",
      "  [242 250 238]\n",
      "  [242 250 238]\n",
      "  ...\n",
      "  [242 250 238]\n",
      "  [242 250 238]\n",
      "  [242 250 238]]]\n",
      "[[243.33333333 243.33333333 243.33333333 ... 243.33333333 243.33333333\n",
      "  243.33333333]\n",
      " [243.33333333 243.33333333 243.33333333 ... 243.33333333 243.33333333\n",
      "  243.33333333]\n",
      " [243.33333333 243.33333333 243.33333333 ... 243.33333333 243.33333333\n",
      "  243.33333333]\n",
      " ...\n",
      " [243.33333333 243.33333333 243.33333333 ... 243.33333333 243.33333333\n",
      "  243.33333333]\n",
      " [243.33333333 243.33333333 243.33333333 ... 243.33333333 243.33333333\n",
      "  243.33333333]\n",
      " [243.33333333 243.33333333 243.33333333 ... 243.33333333 243.33333333\n",
      "  243.33333333]]\n",
      "(60, 160, 3)\n",
      "(60, 160)\n"
     ]
    },
    {
     "data": {
      "image/png": "[encoded data removed]",
      "text/plain": [
       "<Figure size 432x288 with 1 Axes>"
      ]
     },
     "metadata": {},
     "output_type": "display_data"
    }
   ],
   "source": [
    "if __name__ == '__main__':\n",
    "    # 测试\n",
    "    text, image = gen_captcha_text_and_image()\n",
    "    print(text)\n",
    "    print(image)\n",
    "    gray = np.mean(image, -1)\n",
    "    print(gray)\n",
    "\n",
    "    print(image.shape)\n",
    "    print(gray.shape)\n",
    "    f = plt.figure()\n",
    "    ax = f.add_subplot(111)\n",
    "    ax.text(0.1, 0.9, text, ha='center', va='center', transform=ax.transAxes)\n",
    "    plt.imshow(image)\n",
    "\n",
    "    plt.show()"
   ]
  }
 ],
 "metadata": {
  "kernelspec": {
   "display_name": "Python 3",
   "language": "python",
   "name": "python3"
  },
  "language_info": {
   "codemirror_mode": {
    "name": "ipython",
    "version": 3
   },
   "file_extension": ".py",
   "mimetype": "text/x-python",
   "name": "python",
   "nbconvert_exporter": "python",
   "pygments_lexer": "ipython3",
   "version": "3.6.5"
  }
 },
 "nbformat": 4,
 "nbformat_minor": 2
}
