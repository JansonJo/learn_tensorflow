{
 "cells": [
  {
   "cell_type": "code",
   "execution_count": 4,
   "metadata": {},
   "outputs": [
    {
     "name": "stdout",
     "output_type": "stream",
     "text": [
      "Extracting MNIST_data/train-images-idx3-ubyte.gz\n",
      "Extracting MNIST_data/train-labels-idx1-ubyte.gz\n",
      "Extracting MNIST_data/t10k-images-idx3-ubyte.gz\n",
      "Extracting MNIST_data/t10k-labels-idx1-ubyte.gz\n",
      "打印模型参数w和b：\n",
      "Tensor(\"Mean_3:0\", shape=(), dtype=float32)\n",
      "===================\n",
      "测试集数据：\n",
      "images:\n",
      "[[0. 0. 0. ... 0. 0. 0.]\n",
      " [0. 0. 0. ... 0. 0. 0.]\n",
      " [0. 0. 0. ... 0. 0. 0.]\n",
      " ...\n",
      " [0. 0. 0. ... 0. 0. 0.]\n",
      " [0. 0. 0. ... 0. 0. 0.]\n",
      " [0. 0. 0. ... 0. 0. 0.]]\n",
      "(10000, 784)\n",
      "===================\n",
      "labels:\n",
      "[[0. 0. 0. ... 1. 0. 0.]\n",
      " [0. 0. 1. ... 0. 0. 0.]\n",
      " [0. 1. 0. ... 0. 0. 0.]\n",
      " ...\n",
      " [0. 0. 0. ... 0. 0. 0.]\n",
      " [0. 0. 0. ... 0. 0. 0.]\n",
      " [0. 0. 0. ... 0. 0. 0.]]\n",
      "(10000, 10)\n",
      "0.9132\n"
     ]
    }
   ],
   "source": [
    "#coding=utf-8\n",
    "\n",
    "import tensorflow as tf\n",
    "#下载input_data.py源代码,运行然后下载数据集\n",
    "import input_data\n",
    "import os \n",
    "\n",
    "os.environ['TF_CPP_MIN_LOG_LEVEL']='2'\n",
    "\n",
    "mnist = input_data.read_data_sets('MNIST_data/', one_hot=True)\n",
    "#放置占位符\n",
    "#这里的None表示此张量的第一个维度可以是任何长度的\n",
    "x=tf.placeholder(\"float\",[None,784])\n",
    "#创建两个变量\n",
    "#一个Variable代表一个可修改的张量\n",
    "w=tf.Variable(tf.zeros([784,10]))\n",
    "b=tf.Variable(tf.zeros([10]))\n",
    "\n",
    "#使用TensorFlow自带的softmax回归线性模型\n",
    "y=tf.nn.softmax(tf.matmul(x,w)+b)\n",
    "\n",
    "#为了进行训练，需要把正确值一并传入网络\n",
    "y_=tf.placeholder(\"float\",[None,10])\n",
    "\n",
    "#计算交叉墒\n",
    "cross_entropy=-tf.reduce_sum(y_*tf.log(y))\n",
    "\n",
    "#因为TensorFlow拥有一张描述你各个计算单元的图，它可以自动地使用反向传播算法(backpropagation algorithm)来\n",
    "#有效地确定你的变量是如何影响你想要最小化的那个成本值的。然后，TensorFlow会用你选择的优化算法来不断地修改变量以降低成本。\n",
    "#用梯度下降算法（gradient descent algorithm）以0.01的学习速率最小化交叉熵\n",
    "train_step=tf.train.GradientDescentOptimizer(0.01).minimize(cross_entropy)\n",
    "\n",
    "#初始化之前创建的变量的操作\n",
    "#init=tf.initialize_all_variables()\n",
    "init = tf.global_variables_initializer()\n",
    "\n",
    "#在一个Session里面启动我们的模型，并且初始化变量\n",
    "sess=tf.Session()\n",
    "sess.run(init)\n",
    "\n",
    "#开始训练模型，循环1000次，每次都会随机抓取训练数据中的100条数据，然后作为参数替换之前的占位符来进行train_step\n",
    "for i in range(1000):\n",
    "    batch_xs,batch_ys=mnist.train.next_batch(100)\n",
    "    sess.run(train_step,feed_dict={x:batch_xs,y_:batch_ys})\n",
    "\n",
    "#评估模型，tf.argmax能给出某个tensor对象在某一纬度上数据的最大索引，因为标签是由0,1组成，返回的索引就是数值为1的位置\n",
    "correct_prediction=tf.equal(tf.argmax(y,1),tf.argmax(y_,1))\n",
    "\n",
    "#计算正确预测项的比例，因为tf.equal返回的是布尔值,相等表示真，真的用ture,假的用false，\n",
    "#使用tf.cast可以把布尔值转换成浮点数，tf.reduce_mean是求平均值\n",
    "accuracy=tf.reduce_mean(tf.cast(correct_prediction,\"float\"))\n",
    "\n",
    "print('打印模型参数w和b：')\n",
    "print(accuracy)\n",
    "print('===================')\n",
    "print('测试集数据：')\n",
    "print('images:')\n",
    "print(mnist.test.images)\n",
    "print(mnist.test.images.shape)\n",
    "print('===================')\n",
    "print('labels:')\n",
    "print(mnist.test.labels)\n",
    "print(mnist.test.labels.shape)\n",
    "#在session中启动accuracy，输入是MNIST中的测试集\n",
    "print(sess.run(accuracy,feed_dict={x:mnist.test.images,y_:mnist.test.labels}))\n"
   ]
  },
  {
   "cell_type": "code",
   "execution_count": null,
   "metadata": {
    "collapsed": true
   },
   "outputs": [],
   "source": []
  },
  {
   "cell_type": "code",
   "execution_count": null,
   "metadata": {
    "collapsed": true
   },
   "outputs": [],
   "source": []
  }
 ],
 "metadata": {
  "kernelspec": {
   "display_name": "Python 3",
   "language": "python",
   "name": "python3"
  },
  "language_info": {
   "codemirror_mode": {
    "name": "ipython",
    "version": 3
   },
   "file_extension": ".py",
   "mimetype": "text/x-python",
   "name": "python",
   "nbconvert_exporter": "python",
   "pygments_lexer": "ipython3",
   "version": "3.6.5"
  }
 },
 "nbformat": 4,
 "nbformat_minor": 2
}
